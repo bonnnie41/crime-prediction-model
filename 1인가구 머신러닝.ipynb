{
 "cells": [
  {
   "cell_type": "markdown",
   "metadata": {},
   "source": [
    "## 5.9 Regression 실습 - Bike Sharing Demand\n",
    "### 데이터 클렌징 및 가공"
   ]
  },
  {
   "cell_type": "code",
   "execution_count": 1,
   "metadata": {},
   "outputs": [
    {
     "name": "stdout",
     "output_type": "stream",
     "text": [
      "(423, 11)\n"
     ]
    },
    {
     "data": {
      "text/html": [
       "<div>\n",
       "<style scoped>\n",
       "    .dataframe tbody tr th:only-of-type {\n",
       "        vertical-align: middle;\n",
       "    }\n",
       "\n",
       "    .dataframe tbody tr th {\n",
       "        vertical-align: top;\n",
       "    }\n",
       "\n",
       "    .dataframe thead th {\n",
       "        text-align: right;\n",
       "    }\n",
       "</style>\n",
       "<table border=\"1\" class=\"dataframe\">\n",
       "  <thead>\n",
       "    <tr style=\"text-align: right;\">\n",
       "      <th></th>\n",
       "      <th>자치구</th>\n",
       "      <th>code</th>\n",
       "      <th>name</th>\n",
       "      <th>유흥업소수비율</th>\n",
       "      <th>안심지킴이집수비율</th>\n",
       "      <th>비상벨수비율</th>\n",
       "      <th>안심센터수비율</th>\n",
       "      <th>경찰관서수비율</th>\n",
       "      <th>cctv수비율</th>\n",
       "      <th>보안등수비율</th>\n",
       "      <th>여성1인피해자(천백만명)</th>\n",
       "    </tr>\n",
       "  </thead>\n",
       "  <tbody>\n",
       "    <tr>\n",
       "      <th>0</th>\n",
       "      <td>송파구</td>\n",
       "      <td>1124066</td>\n",
       "      <td>가락1동</td>\n",
       "      <td>2.238806</td>\n",
       "      <td>0.000000</td>\n",
       "      <td>0.746269</td>\n",
       "      <td>0.000000</td>\n",
       "      <td>0.000000</td>\n",
       "      <td>18.656716</td>\n",
       "      <td>48.507463</td>\n",
       "      <td>207.473410</td>\n",
       "    </tr>\n",
       "    <tr>\n",
       "      <th>1</th>\n",
       "      <td>송파구</td>\n",
       "      <td>1124067</td>\n",
       "      <td>가락2동</td>\n",
       "      <td>35.416667</td>\n",
       "      <td>2.083333</td>\n",
       "      <td>46.875000</td>\n",
       "      <td>1.041667</td>\n",
       "      <td>0.000000</td>\n",
       "      <td>129.166667</td>\n",
       "      <td>423.958333</td>\n",
       "      <td>247.128250</td>\n",
       "    </tr>\n",
       "    <tr>\n",
       "      <th>2</th>\n",
       "      <td>송파구</td>\n",
       "      <td>1124065</td>\n",
       "      <td>가락본동</td>\n",
       "      <td>105.309735</td>\n",
       "      <td>1.769912</td>\n",
       "      <td>35.398230</td>\n",
       "      <td>0.000000</td>\n",
       "      <td>1.769912</td>\n",
       "      <td>97.345133</td>\n",
       "      <td>364.601770</td>\n",
       "      <td>203.692505</td>\n",
       "    </tr>\n",
       "  </tbody>\n",
       "</table>\n",
       "</div>"
      ],
      "text/plain": [
       "   자치구     code  name     유흥업소수비율  안심지킴이집수비율     비상벨수비율   안심센터수비율   경찰관서수비율  \\\n",
       "0  송파구  1124066  가락1동    2.238806   0.000000   0.746269  0.000000  0.000000   \n",
       "1  송파구  1124067  가락2동   35.416667   2.083333  46.875000  1.041667  0.000000   \n",
       "2  송파구  1124065  가락본동  105.309735   1.769912  35.398230  0.000000  1.769912   \n",
       "\n",
       "      cctv수비율      보안등수비율  여성1인피해자(천백만명)  \n",
       "0   18.656716   48.507463     207.473410  \n",
       "1  129.166667  423.958333     247.128250  \n",
       "2   97.345133  364.601770     203.692505  "
      ]
     },
     "execution_count": 1,
     "metadata": {},
     "output_type": "execute_result"
    }
   ],
   "source": [
    "import numpy as np\n",
    "import pandas as pd\n",
    "import seaborn as sns\n",
    "import matplotlib.pyplot as plt\n",
    "%matplotlib inline\n",
    "\n",
    "import warnings\n",
    "warnings.filterwarnings(\"ignore\", category=RuntimeWarning)\n",
    "\n",
    "bike_df = pd.read_csv('all_data.csv', encoding='cp949')\n",
    "print(bike_df.shape)\n",
    "bike_df.head(3)"
   ]
  },
  {
   "cell_type": "code",
   "execution_count": 2,
   "metadata": {},
   "outputs": [
    {
     "name": "stdout",
     "output_type": "stream",
     "text": [
      "<class 'pandas.core.frame.DataFrame'>\n",
      "RangeIndex: 423 entries, 0 to 422\n",
      "Data columns (total 11 columns):\n",
      " #   Column         Non-Null Count  Dtype  \n",
      "---  ------         --------------  -----  \n",
      " 0   자치구            423 non-null    object \n",
      " 1   code           423 non-null    int64  \n",
      " 2   name           423 non-null    object \n",
      " 3   유흥업소수비율        423 non-null    float64\n",
      " 4   안심지킴이집수비율      423 non-null    float64\n",
      " 5   비상벨수비율         423 non-null    float64\n",
      " 6   안심센터수비율        423 non-null    float64\n",
      " 7   경찰관서수비율        423 non-null    float64\n",
      " 8   cctv수비율        423 non-null    float64\n",
      " 9   보안등수비율         418 non-null    float64\n",
      " 10  여성1인피해자(천백만명)  423 non-null    float64\n",
      "dtypes: float64(8), int64(1), object(2)\n",
      "memory usage: 36.5+ KB\n"
     ]
    }
   ],
   "source": [
    "bike_df.info()"
   ]
  },
  {
   "cell_type": "code",
   "execution_count": 3,
   "metadata": {},
   "outputs": [],
   "source": [
    "drop_columns = ['자치구', 'code', 'name']\n",
    "bike_df.drop(drop_columns, axis=1,inplace=True)"
   ]
  },
  {
   "cell_type": "code",
   "execution_count": 4,
   "metadata": {},
   "outputs": [
    {
     "data": {
      "text/plain": [
       "Index(['유흥업소수비율', '안심지킴이집수비율', '비상벨수비율', '안심센터수비율', '경찰관서수비율', 'cctv수비율',\n",
       "       '보안등수비율', '여성1인피해자(천백만명)'],\n",
       "      dtype='object')"
      ]
     },
     "execution_count": 4,
     "metadata": {},
     "output_type": "execute_result"
    }
   ],
   "source": [
    "bike_df.columns"
   ]
  },
  {
   "cell_type": "code",
   "execution_count": 5,
   "metadata": {},
   "outputs": [],
   "source": [
    "from sklearn.metrics import mean_squared_error, mean_absolute_error\n",
    "\n",
    "# log 값 변환 시 NaN등의 이슈로 log() 가 아닌 log1p() 를 이용하여 RMSLE 계산\n",
    "def rmsle(y, pred):\n",
    "    log_y = np.log1p(y)\n",
    "    log_pred = np.log1p(pred)\n",
    "    squared_error = (log_y - log_pred) ** 2\n",
    "    rmsle = np.sqrt(np.mean(squared_error))\n",
    "    return rmsle\n",
    "\n",
    "# 사이킷런의 mean_square_error() 를 이용하여 RMSE 계산\n",
    "def rmse(y,pred):\n",
    "    return np.sqrt(mean_squared_error(y,pred))\n",
    "\n",
    "# MSE, RMSE, RMSLE 를 모두 계산 \n",
    "def evaluate_regr(y,pred):\n",
    "    rmsle_val = rmsle(y,pred)\n",
    "    rmse_val = rmse(y,pred)\n",
    "    # MAE 는 scikit learn의 mean_absolute_error() 로 계산\n",
    "    mae_val = mean_absolute_error(y,pred)\n",
    "    print('RMSLE: {0:.3f}, RMSE: {1:.3F}, MAE: {2:.3F}'.format(rmsle_val, rmse_val, mae_val))"
   ]
  },
  {
   "cell_type": "code",
   "execution_count": 6,
   "metadata": {},
   "outputs": [],
   "source": [
    "from sklearn.preprocessing import MinMaxScaler\n",
    "\n",
    "# MinMaxScaler객체 생성\n",
    "scaler = MinMaxScaler()\n",
    "# MinMaxScaler 로 데이터 셋 변환. fit() 과 transform() 호출.  \n",
    "scaler.fit(bike_df)\n",
    "bike_scaled = scaler.transform(bike_df)\n",
    "\n",
    "bike_data = pd.DataFrame(bike_scaled)"
   ]
  },
  {
   "cell_type": "code",
   "execution_count": 7,
   "metadata": {},
   "outputs": [],
   "source": [
    "bike_data.columns=[\"유흥업소수비율\", \"안심지킴이집수비율\", \"비상벨수비율\", \"안심센터수비율\", \"경찰관서수비율\", \"cctv수비율\", \"보안등수비율\", \"여성1인피해자(천백만명)\"]"
   ]
  },
  {
   "cell_type": "code",
   "execution_count": 8,
   "metadata": {},
   "outputs": [
    {
     "data": {
      "text/html": [
       "<div>\n",
       "<style scoped>\n",
       "    .dataframe tbody tr th:only-of-type {\n",
       "        vertical-align: middle;\n",
       "    }\n",
       "\n",
       "    .dataframe tbody tr th {\n",
       "        vertical-align: top;\n",
       "    }\n",
       "\n",
       "    .dataframe thead th {\n",
       "        text-align: right;\n",
       "    }\n",
       "</style>\n",
       "<table border=\"1\" class=\"dataframe\">\n",
       "  <thead>\n",
       "    <tr style=\"text-align: right;\">\n",
       "      <th></th>\n",
       "      <th>유흥업소수비율</th>\n",
       "      <th>안심지킴이집수비율</th>\n",
       "      <th>비상벨수비율</th>\n",
       "      <th>안심센터수비율</th>\n",
       "      <th>경찰관서수비율</th>\n",
       "      <th>cctv수비율</th>\n",
       "      <th>보안등수비율</th>\n",
       "      <th>여성1인피해자(천백만명)</th>\n",
       "    </tr>\n",
       "  </thead>\n",
       "  <tbody>\n",
       "    <tr>\n",
       "      <th>0</th>\n",
       "      <td>0.009427</td>\n",
       "      <td>0.000000</td>\n",
       "      <td>0.002642</td>\n",
       "      <td>0.000000</td>\n",
       "      <td>0.000000</td>\n",
       "      <td>0.016771</td>\n",
       "      <td>0.012679</td>\n",
       "      <td>0.073316</td>\n",
       "    </tr>\n",
       "    <tr>\n",
       "      <th>1</th>\n",
       "      <td>0.149123</td>\n",
       "      <td>0.126736</td>\n",
       "      <td>0.165929</td>\n",
       "      <td>0.286458</td>\n",
       "      <td>0.000000</td>\n",
       "      <td>0.136326</td>\n",
       "      <td>0.110815</td>\n",
       "      <td>0.087505</td>\n",
       "    </tr>\n",
       "    <tr>\n",
       "      <th>2</th>\n",
       "      <td>0.443409</td>\n",
       "      <td>0.107670</td>\n",
       "      <td>0.125303</td>\n",
       "      <td>0.000000</td>\n",
       "      <td>0.353982</td>\n",
       "      <td>0.101900</td>\n",
       "      <td>0.095301</td>\n",
       "      <td>0.071963</td>\n",
       "    </tr>\n",
       "    <tr>\n",
       "      <th>3</th>\n",
       "      <td>0.463158</td>\n",
       "      <td>0.152083</td>\n",
       "      <td>1.000000</td>\n",
       "      <td>0.000000</td>\n",
       "      <td>0.500000</td>\n",
       "      <td>1.000000</td>\n",
       "      <td>0.390767</td>\n",
       "      <td>0.056139</td>\n",
       "    </tr>\n",
       "    <tr>\n",
       "      <th>4</th>\n",
       "      <td>0.110276</td>\n",
       "      <td>0.048280</td>\n",
       "      <td>0.105352</td>\n",
       "      <td>0.000000</td>\n",
       "      <td>0.079365</td>\n",
       "      <td>0.100479</td>\n",
       "      <td>0.069598</td>\n",
       "      <td>0.262599</td>\n",
       "    </tr>\n",
       "    <tr>\n",
       "      <th>...</th>\n",
       "      <td>...</td>\n",
       "      <td>...</td>\n",
       "      <td>...</td>\n",
       "      <td>...</td>\n",
       "      <td>...</td>\n",
       "      <td>...</td>\n",
       "      <td>...</td>\n",
       "      <td>...</td>\n",
       "    </tr>\n",
       "    <tr>\n",
       "      <th>418</th>\n",
       "      <td>0.028708</td>\n",
       "      <td>0.000000</td>\n",
       "      <td>0.402253</td>\n",
       "      <td>0.000000</td>\n",
       "      <td>0.000000</td>\n",
       "      <td>0.114607</td>\n",
       "      <td>0.177027</td>\n",
       "      <td>0.123854</td>\n",
       "    </tr>\n",
       "    <tr>\n",
       "      <th>419</th>\n",
       "      <td>0.058752</td>\n",
       "      <td>0.070736</td>\n",
       "      <td>0.366331</td>\n",
       "      <td>0.000000</td>\n",
       "      <td>0.232558</td>\n",
       "      <td>0.126157</td>\n",
       "      <td>0.267158</td>\n",
       "      <td>0.219023</td>\n",
       "    </tr>\n",
       "    <tr>\n",
       "      <th>420</th>\n",
       "      <td>0.100251</td>\n",
       "      <td>0.000000</td>\n",
       "      <td>0.196657</td>\n",
       "      <td>0.000000</td>\n",
       "      <td>0.000000</td>\n",
       "      <td>0.209522</td>\n",
       "      <td>0.209106</td>\n",
       "      <td>0.100314</td>\n",
       "    </tr>\n",
       "    <tr>\n",
       "      <th>421</th>\n",
       "      <td>0.044110</td>\n",
       "      <td>0.115873</td>\n",
       "      <td>0.195533</td>\n",
       "      <td>0.261905</td>\n",
       "      <td>0.190476</td>\n",
       "      <td>0.205744</td>\n",
       "      <td>0.153594</td>\n",
       "      <td>0.163775</td>\n",
       "    </tr>\n",
       "    <tr>\n",
       "      <th>422</th>\n",
       "      <td>0.097744</td>\n",
       "      <td>0.036210</td>\n",
       "      <td>0.292878</td>\n",
       "      <td>0.327381</td>\n",
       "      <td>0.000000</td>\n",
       "      <td>0.104772</td>\n",
       "      <td>0.122134</td>\n",
       "      <td>0.164749</td>\n",
       "    </tr>\n",
       "  </tbody>\n",
       "</table>\n",
       "<p>423 rows × 8 columns</p>\n",
       "</div>"
      ],
      "text/plain": [
       "      유흥업소수비율  안심지킴이집수비율    비상벨수비율   안심센터수비율   경찰관서수비율   cctv수비율    보안등수비율  \\\n",
       "0    0.009427   0.000000  0.002642  0.000000  0.000000  0.016771  0.012679   \n",
       "1    0.149123   0.126736  0.165929  0.286458  0.000000  0.136326  0.110815   \n",
       "2    0.443409   0.107670  0.125303  0.000000  0.353982  0.101900  0.095301   \n",
       "3    0.463158   0.152083  1.000000  0.000000  0.500000  1.000000  0.390767   \n",
       "4    0.110276   0.048280  0.105352  0.000000  0.079365  0.100479  0.069598   \n",
       "..        ...        ...       ...       ...       ...       ...       ...   \n",
       "418  0.028708   0.000000  0.402253  0.000000  0.000000  0.114607  0.177027   \n",
       "419  0.058752   0.070736  0.366331  0.000000  0.232558  0.126157  0.267158   \n",
       "420  0.100251   0.000000  0.196657  0.000000  0.000000  0.209522  0.209106   \n",
       "421  0.044110   0.115873  0.195533  0.261905  0.190476  0.205744  0.153594   \n",
       "422  0.097744   0.036210  0.292878  0.327381  0.000000  0.104772  0.122134   \n",
       "\n",
       "     여성1인피해자(천백만명)  \n",
       "0         0.073316  \n",
       "1         0.087505  \n",
       "2         0.071963  \n",
       "3         0.056139  \n",
       "4         0.262599  \n",
       "..             ...  \n",
       "418       0.123854  \n",
       "419       0.219023  \n",
       "420       0.100314  \n",
       "421       0.163775  \n",
       "422       0.164749  \n",
       "\n",
       "[423 rows x 8 columns]"
      ]
     },
     "execution_count": 8,
     "metadata": {},
     "output_type": "execute_result"
    }
   ],
   "source": [
    "bike_data"
   ]
  },
  {
   "cell_type": "code",
   "execution_count": 9,
   "metadata": {},
   "outputs": [],
   "source": [
    "bike_df=bike_data"
   ]
  },
  {
   "cell_type": "markdown",
   "metadata": {},
   "source": [
    "### 로그 변환, 피처 인코딩, 모델 학습/예측/평가 "
   ]
  },
  {
   "cell_type": "code",
   "execution_count": 19,
   "metadata": {},
   "outputs": [],
   "source": [
    "from sklearn.model_selection import train_test_split , GridSearchCV\n",
    "from sklearn.linear_model import LinearRegression , Ridge , Lasso\n",
    "\n",
    "y_target = bike_df['여성1인피해자(천백만명)']\n",
    "X_features = bike_df.drop(['여성1인피해자(천백만명)'],axis=1,inplace=False)\n",
    "\n",
    "X_train, X_test, y_train, y_test = train_test_split(X_features, y_target, test_size=0.5, random_state=0)"
   ]
  },
  {
   "cell_type": "code",
   "execution_count": 20,
   "metadata": {},
   "outputs": [],
   "source": [
    "lgbm_reg = LGBMRegressor()\n",
    "xgb_reg = XGBRegressor()"
   ]
  },
  {
   "cell_type": "code",
   "execution_count": 21,
   "metadata": {},
   "outputs": [],
   "source": [
    "from xgboost import XGBRegressor\n",
    "from lightgbm import LGBMRegressor\n",
    "\n",
    "xgb_reg.fit(X_train, y_train)\n",
    "lgbm_reg.fit(X_train, y_train)\n",
    "xgb_pred = xgb_reg.predict(X_test)\n",
    "lgbm_pred = lgbm_reg.predict(X_test)\n",
    "pred = 0.5 * xgb_pred + 0.5 * lgbm_pred\n",
    "preds = {'최종 혼합': pred,\n",
    "         'XGBM': xgb_pred,\n",
    "         'LGBM': lgbm_pred}"
   ]
  },
  {
   "cell_type": "code",
   "execution_count": 22,
   "metadata": {},
   "outputs": [],
   "source": [
    "def get_rmse_pred(preds):\n",
    "    for key in preds.keys():\n",
    "        pred_value = preds[key]\n",
    "        mse = mean_squared_error(y_test , pred_value)\n",
    "        rmse = np.sqrt(mse)\n",
    "        print('{0} 모델의 RMSE: {1}'.format(key, rmse))"
   ]
  },
  {
   "cell_type": "code",
   "execution_count": 23,
   "metadata": {},
   "outputs": [
    {
     "name": "stdout",
     "output_type": "stream",
     "text": [
      "최종 혼합 모델의 RMSE: 0.13262858570263777\n",
      "XGBM 모델의 RMSE: 0.13845415298052838\n",
      "LGBM 모델의 RMSE: 0.13135388155215894\n"
     ]
    }
   ],
   "source": [
    "get_rmse_pred(preds)"
   ]
  },
  {
   "cell_type": "code",
   "execution_count": null,
   "metadata": {},
   "outputs": [],
   "source": []
  }
 ],
 "metadata": {
  "kernelspec": {
   "display_name": "Python 3 (ipykernel)",
   "language": "python",
   "name": "python3"
  },
  "language_info": {
   "codemirror_mode": {
    "name": "ipython",
    "version": 3
   },
   "file_extension": ".py",
   "mimetype": "text/x-python",
   "name": "python",
   "nbconvert_exporter": "python",
   "pygments_lexer": "ipython3",
   "version": "3.9.12"
  }
 },
 "nbformat": 4,
 "nbformat_minor": 2
}
